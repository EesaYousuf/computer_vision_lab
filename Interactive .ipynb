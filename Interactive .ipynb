{
 "cells": [
  {
   "cell_type": "code",
   "execution_count": null,
   "id": "e0f358dc",
   "metadata": {
    "vscode": {
     "languageId": "plaintext"
    }
   },
   "outputs": [],
   "source": [
    "# The ncessary Libraries\n",
    "import pandas as pd\n",
    "import plotly.express as px"
   ]
  }
 ],
 "metadata": {
  "language_info": {
   "name": "python"
  }
 },
 "nbformat": 4,
 "nbformat_minor": 5
}

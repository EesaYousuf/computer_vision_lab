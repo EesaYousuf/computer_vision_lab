{
 "cells": [
  {
   "cell_type": "code",
   "execution_count": null,
   "id": "c5000211",
   "metadata": {
    "vscode": {
     "languageId": "plaintext"
    }
   },
   "outputs": [],
   "source": [
    "import asyncio\n",
    "import asyncpg\n"
   ]
  },
  {
   "cell_type": "code",
   "execution_count": null,
   "id": "bb13fa78",
   "metadata": {
    "vscode": {
     "languageId": "plaintext"
    }
   },
   "outputs": [],
   "source": [
    "async def main():\n",
    "    conn = await asyncpg.connect(user='postgres', password='secret',\n",
    "                                 database='testdb', host='127.0.0.1')\n",
    "    await conn.execute('''\n",
    "        CREATE TABLE IF NOT EXISTS users(id serial PRIMARY KEY, name text)\n",
    "    ''')\n",
    "    await conn.execute('INSERT INTO users(name) VALUES($1)', 'Alice')\n",
    "    rows = await conn.fetch('SELECT * FROM users')\n",
    "    for row in rows:"
   ]
  },
  {
   "cell_type": "code",
   "execution_count": null,
   "id": "ec2b1ced",
   "metadata": {
    "vscode": {
     "languageId": "plaintext"
    }
   },
   "outputs": [],
   "source": [
    "      print(dict(row))\n",
    "    await conn.close()\n",
    "\n",
    "asyncio.run(main())"
   ]
  }
 ],
 "metadata": {
  "language_info": {
   "name": "python"
  }
 },
 "nbformat": 4,
 "nbformat_minor": 5
}
